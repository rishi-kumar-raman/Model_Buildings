{
 "cells": [
  {
   "cell_type": "code",
   "execution_count": 56,
   "metadata": {},
   "outputs": [],
   "source": [
    "import pandas as pd\n",
    "import numpy as np\n",
    "import seaborn as sns\n",
    "import matplotlib.pyplot as plt"
   ]
  },
  {
   "cell_type": "code",
   "execution_count": 57,
   "metadata": {},
   "outputs": [],
   "source": [
    "df1_house=pd.read_csv('houses_to_rent.csv',index_col=0)"
   ]
  },
  {
   "cell_type": "code",
   "execution_count": 58,
   "metadata": {},
   "outputs": [
    {
     "data": {
      "text/html": [
       "<div>\n",
       "<style scoped>\n",
       "    .dataframe tbody tr th:only-of-type {\n",
       "        vertical-align: middle;\n",
       "    }\n",
       "\n",
       "    .dataframe tbody tr th {\n",
       "        vertical-align: top;\n",
       "    }\n",
       "\n",
       "    .dataframe thead th {\n",
       "        text-align: right;\n",
       "    }\n",
       "</style>\n",
       "<table border=\"1\" class=\"dataframe\">\n",
       "  <thead>\n",
       "    <tr style=\"text-align: right;\">\n",
       "      <th></th>\n",
       "      <th>city</th>\n",
       "      <th>area</th>\n",
       "      <th>rooms</th>\n",
       "      <th>bathroom</th>\n",
       "      <th>parking spaces</th>\n",
       "      <th>floor</th>\n",
       "      <th>animal</th>\n",
       "      <th>furniture</th>\n",
       "      <th>hoa</th>\n",
       "      <th>rent amount</th>\n",
       "      <th>property tax</th>\n",
       "      <th>fire insurance</th>\n",
       "      <th>total</th>\n",
       "    </tr>\n",
       "  </thead>\n",
       "  <tbody>\n",
       "    <tr>\n",
       "      <td>0</td>\n",
       "      <td>1</td>\n",
       "      <td>240</td>\n",
       "      <td>3</td>\n",
       "      <td>3</td>\n",
       "      <td>4</td>\n",
       "      <td>-</td>\n",
       "      <td>acept</td>\n",
       "      <td>furnished</td>\n",
       "      <td>R$0</td>\n",
       "      <td>R$8,000</td>\n",
       "      <td>R$1,000</td>\n",
       "      <td>R$121</td>\n",
       "      <td>R$9,121</td>\n",
       "    </tr>\n",
       "    <tr>\n",
       "      <td>1</td>\n",
       "      <td>0</td>\n",
       "      <td>64</td>\n",
       "      <td>2</td>\n",
       "      <td>1</td>\n",
       "      <td>1</td>\n",
       "      <td>10</td>\n",
       "      <td>acept</td>\n",
       "      <td>not furnished</td>\n",
       "      <td>R$540</td>\n",
       "      <td>R$820</td>\n",
       "      <td>R$122</td>\n",
       "      <td>R$11</td>\n",
       "      <td>R$1,493</td>\n",
       "    </tr>\n",
       "    <tr>\n",
       "      <td>2</td>\n",
       "      <td>1</td>\n",
       "      <td>443</td>\n",
       "      <td>5</td>\n",
       "      <td>5</td>\n",
       "      <td>4</td>\n",
       "      <td>3</td>\n",
       "      <td>acept</td>\n",
       "      <td>furnished</td>\n",
       "      <td>R$4,172</td>\n",
       "      <td>R$7,000</td>\n",
       "      <td>R$1,417</td>\n",
       "      <td>R$89</td>\n",
       "      <td>R$12,680</td>\n",
       "    </tr>\n",
       "    <tr>\n",
       "      <td>3</td>\n",
       "      <td>1</td>\n",
       "      <td>73</td>\n",
       "      <td>2</td>\n",
       "      <td>2</td>\n",
       "      <td>1</td>\n",
       "      <td>12</td>\n",
       "      <td>acept</td>\n",
       "      <td>not furnished</td>\n",
       "      <td>R$700</td>\n",
       "      <td>R$1,250</td>\n",
       "      <td>R$150</td>\n",
       "      <td>R$16</td>\n",
       "      <td>R$2,116</td>\n",
       "    </tr>\n",
       "    <tr>\n",
       "      <td>4</td>\n",
       "      <td>1</td>\n",
       "      <td>19</td>\n",
       "      <td>1</td>\n",
       "      <td>1</td>\n",
       "      <td>0</td>\n",
       "      <td>-</td>\n",
       "      <td>not acept</td>\n",
       "      <td>not furnished</td>\n",
       "      <td>R$0</td>\n",
       "      <td>R$1,200</td>\n",
       "      <td>R$41</td>\n",
       "      <td>R$16</td>\n",
       "      <td>R$1,257</td>\n",
       "    </tr>\n",
       "    <tr>\n",
       "      <td>...</td>\n",
       "      <td>...</td>\n",
       "      <td>...</td>\n",
       "      <td>...</td>\n",
       "      <td>...</td>\n",
       "      <td>...</td>\n",
       "      <td>...</td>\n",
       "      <td>...</td>\n",
       "      <td>...</td>\n",
       "      <td>...</td>\n",
       "      <td>...</td>\n",
       "      <td>...</td>\n",
       "      <td>...</td>\n",
       "      <td>...</td>\n",
       "    </tr>\n",
       "    <tr>\n",
       "      <td>6075</td>\n",
       "      <td>1</td>\n",
       "      <td>50</td>\n",
       "      <td>2</td>\n",
       "      <td>1</td>\n",
       "      <td>1</td>\n",
       "      <td>2</td>\n",
       "      <td>acept</td>\n",
       "      <td>not furnished</td>\n",
       "      <td>R$420</td>\n",
       "      <td>R$1,150</td>\n",
       "      <td>R$0</td>\n",
       "      <td>R$15</td>\n",
       "      <td>R$1,585</td>\n",
       "    </tr>\n",
       "    <tr>\n",
       "      <td>6076</td>\n",
       "      <td>1</td>\n",
       "      <td>84</td>\n",
       "      <td>2</td>\n",
       "      <td>2</td>\n",
       "      <td>1</td>\n",
       "      <td>16</td>\n",
       "      <td>not acept</td>\n",
       "      <td>furnished</td>\n",
       "      <td>R$768</td>\n",
       "      <td>R$2,900</td>\n",
       "      <td>R$63</td>\n",
       "      <td>R$37</td>\n",
       "      <td>R$3,768</td>\n",
       "    </tr>\n",
       "    <tr>\n",
       "      <td>6077</td>\n",
       "      <td>0</td>\n",
       "      <td>48</td>\n",
       "      <td>1</td>\n",
       "      <td>1</td>\n",
       "      <td>0</td>\n",
       "      <td>13</td>\n",
       "      <td>acept</td>\n",
       "      <td>not furnished</td>\n",
       "      <td>R$250</td>\n",
       "      <td>R$950</td>\n",
       "      <td>R$42</td>\n",
       "      <td>R$13</td>\n",
       "      <td>R$1,255</td>\n",
       "    </tr>\n",
       "    <tr>\n",
       "      <td>6078</td>\n",
       "      <td>1</td>\n",
       "      <td>160</td>\n",
       "      <td>3</td>\n",
       "      <td>2</td>\n",
       "      <td>2</td>\n",
       "      <td>-</td>\n",
       "      <td>not acept</td>\n",
       "      <td>not furnished</td>\n",
       "      <td>R$0</td>\n",
       "      <td>R$3,500</td>\n",
       "      <td>R$250</td>\n",
       "      <td>R$53</td>\n",
       "      <td>R$3,803</td>\n",
       "    </tr>\n",
       "    <tr>\n",
       "      <td>6079</td>\n",
       "      <td>1</td>\n",
       "      <td>60</td>\n",
       "      <td>2</td>\n",
       "      <td>1</td>\n",
       "      <td>1</td>\n",
       "      <td>4</td>\n",
       "      <td>acept</td>\n",
       "      <td>furnished</td>\n",
       "      <td>R$489</td>\n",
       "      <td>R$1,900</td>\n",
       "      <td>R$0</td>\n",
       "      <td>R$25</td>\n",
       "      <td>R$2,414</td>\n",
       "    </tr>\n",
       "  </tbody>\n",
       "</table>\n",
       "<p>6080 rows × 13 columns</p>\n",
       "</div>"
      ],
      "text/plain": [
       "      city  area  rooms  bathroom  parking spaces floor     animal  \\\n",
       "0        1   240      3         3               4     -      acept   \n",
       "1        0    64      2         1               1    10      acept   \n",
       "2        1   443      5         5               4     3      acept   \n",
       "3        1    73      2         2               1    12      acept   \n",
       "4        1    19      1         1               0     -  not acept   \n",
       "...    ...   ...    ...       ...             ...   ...        ...   \n",
       "6075     1    50      2         1               1     2      acept   \n",
       "6076     1    84      2         2               1    16  not acept   \n",
       "6077     0    48      1         1               0    13      acept   \n",
       "6078     1   160      3         2               2     -  not acept   \n",
       "6079     1    60      2         1               1     4      acept   \n",
       "\n",
       "          furniture      hoa rent amount property tax fire insurance     total  \n",
       "0         furnished      R$0     R$8,000      R$1,000          R$121   R$9,121  \n",
       "1     not furnished    R$540       R$820        R$122           R$11   R$1,493  \n",
       "2         furnished  R$4,172     R$7,000      R$1,417           R$89  R$12,680  \n",
       "3     not furnished    R$700     R$1,250        R$150           R$16   R$2,116  \n",
       "4     not furnished      R$0     R$1,200         R$41           R$16   R$1,257  \n",
       "...             ...      ...         ...          ...            ...       ...  \n",
       "6075  not furnished    R$420     R$1,150          R$0           R$15   R$1,585  \n",
       "6076      furnished    R$768     R$2,900         R$63           R$37   R$3,768  \n",
       "6077  not furnished    R$250       R$950         R$42           R$13   R$1,255  \n",
       "6078  not furnished      R$0     R$3,500        R$250           R$53   R$3,803  \n",
       "6079      furnished    R$489     R$1,900          R$0           R$25   R$2,414  \n",
       "\n",
       "[6080 rows x 13 columns]"
      ]
     },
     "execution_count": 58,
     "metadata": {},
     "output_type": "execute_result"
    }
   ],
   "source": [
    "df1_house"
   ]
  },
  {
   "cell_type": "raw",
   "metadata": {},
   "source": [
    "city :  City where the property is located\n",
    "area : Property area\n",
    "rooms : Quantity of rooms\n",
    "bathroom : Quantity of bathroom\n",
    "parking spaces : Quantity of parking spaces\n",
    "floor :  Floor\n",
    "animal : Acept animals?\n",
    "furniture :  Furniture?\n",
    "hoa : Homeowners association tax\n",
    "rent amount :  Rent amount\n",
    "total :  Total\n",
    "property tax :  Property tax\n",
    "fire insurance :Fire Insurance"
   ]
  },
  {
   "cell_type": "code",
   "execution_count": 59,
   "metadata": {},
   "outputs": [],
   "source": [
    "df1_house['total']=df1_house['total'].replace({',':''},regex=True)\n",
    "df1_house['total']=df1_house['total'].replace({'R':''},regex=True)\n",
    "df1_house['total']=df1_house['total'].replace({'$':''},regex=True)"
   ]
  },
  {
   "cell_type": "code",
   "execution_count": 60,
   "metadata": {},
   "outputs": [],
   "source": [
    "df1_house['fire insurance']=df1_house['fire insurance'].replace({',':''},regex=True)\n",
    "df1_house['fire insurance']=df1_house['fire insurance'].replace({'R':''},regex=True)\n",
    "\n",
    "df1_house['property tax']=df1_house['property tax'].replace({',':''},regex=True)\n",
    "df1_house['property tax']=df1_house['property tax'].replace({'R':''},regex=True)\n",
    "\n",
    "\n",
    "df1_house['rent amount']=df1_house['rent amount'].replace({',':''},regex=True)\n",
    "df1_house['rent amount']=df1_house['rent amount'].replace({'R':''},regex=True)\n",
    "\n",
    "\n",
    "df1_house['hoa']=df1_house['hoa'].replace({',':''},regex=True)\n",
    "df1_house['hoa']=df1_house['hoa'].replace({'R':''},regex=True)\n",
    "\n",
    "df1_house['total']=[x.strip('$') for x in df1_house.total]\n",
    "df1_house['property tax']=[x.strip('$') for x in df1_house['property tax']]\n",
    "df1_house['rent amount']=[x.strip('$') for x in df1_house['rent amount']]\n",
    "df1_house['hoa']=[x.strip('$') for x in df1_house.hoa]\n",
    "df1_house['fire insurance']=[x.strip('$') for x in df1_house['fire insurance']]\n",
    "df1_house['hoa']=df1_house['hoa'].replace({'Incluso':'0'},regex=True)\n",
    "df1_house['hoa']=df1_house['hoa'].replace({'Sem info':'0'},regex=True)\n",
    "df1_house['property tax']=df1_house['property tax'].replace({'Incluso':'0'},regex=True)\n",
    "df1_house['floor']=df1_house['floor'].replace({'-':'0'})"
   ]
  },
  {
   "cell_type": "code",
   "execution_count": 61,
   "metadata": {},
   "outputs": [
    {
     "name": "stdout",
     "output_type": "stream",
     "text": [
      "<class 'pandas.core.frame.DataFrame'>\n",
      "Int64Index: 6080 entries, 0 to 6079\n",
      "Data columns (total 13 columns):\n",
      "city              6080 non-null int64\n",
      "area              6080 non-null int64\n",
      "rooms             6080 non-null int64\n",
      "bathroom          6080 non-null int64\n",
      "parking spaces    6080 non-null int64\n",
      "floor             6080 non-null object\n",
      "animal            6080 non-null object\n",
      "furniture         6080 non-null object\n",
      "hoa               6080 non-null object\n",
      "rent amount       6080 non-null object\n",
      "property tax      6080 non-null object\n",
      "fire insurance    6080 non-null object\n",
      "total             6080 non-null object\n",
      "dtypes: int64(5), object(8)\n",
      "memory usage: 665.0+ KB\n"
     ]
    }
   ],
   "source": [
    "df1_house.info()"
   ]
  },
  {
   "cell_type": "code",
   "execution_count": 62,
   "metadata": {},
   "outputs": [],
   "source": [
    "for i in df1_house[['rent amount','fire insurance','total','hoa','property tax']].columns:\n",
    "    df1_house[i]=df1_house[i].astype(float)"
   ]
  },
  {
   "cell_type": "code",
   "execution_count": 63,
   "metadata": {},
   "outputs": [
    {
     "data": {
      "text/html": [
       "<div>\n",
       "<style scoped>\n",
       "    .dataframe tbody tr th:only-of-type {\n",
       "        vertical-align: middle;\n",
       "    }\n",
       "\n",
       "    .dataframe tbody tr th {\n",
       "        vertical-align: top;\n",
       "    }\n",
       "\n",
       "    .dataframe thead th {\n",
       "        text-align: right;\n",
       "    }\n",
       "</style>\n",
       "<table border=\"1\" class=\"dataframe\">\n",
       "  <thead>\n",
       "    <tr style=\"text-align: right;\">\n",
       "      <th></th>\n",
       "      <th>city</th>\n",
       "      <th>area</th>\n",
       "      <th>rooms</th>\n",
       "      <th>bathroom</th>\n",
       "      <th>parking spaces</th>\n",
       "      <th>hoa</th>\n",
       "      <th>rent amount</th>\n",
       "      <th>property tax</th>\n",
       "      <th>fire insurance</th>\n",
       "      <th>total</th>\n",
       "    </tr>\n",
       "  </thead>\n",
       "  <tbody>\n",
       "    <tr>\n",
       "      <td>count</td>\n",
       "      <td>6080.000000</td>\n",
       "      <td>6080.000000</td>\n",
       "      <td>6080.000000</td>\n",
       "      <td>6080.000000</td>\n",
       "      <td>6080.000000</td>\n",
       "      <td>6080.000000</td>\n",
       "      <td>6080.000000</td>\n",
       "      <td>6080.000000</td>\n",
       "      <td>6080.000000</td>\n",
       "      <td>6080.000000</td>\n",
       "    </tr>\n",
       "    <tr>\n",
       "      <td>mean</td>\n",
       "      <td>0.863322</td>\n",
       "      <td>151.143914</td>\n",
       "      <td>2.492599</td>\n",
       "      <td>2.341612</td>\n",
       "      <td>1.756250</td>\n",
       "      <td>1088.426480</td>\n",
       "      <td>4395.844408</td>\n",
       "      <td>490.333388</td>\n",
       "      <td>58.204276</td>\n",
       "      <td>6033.194572</td>\n",
       "    </tr>\n",
       "    <tr>\n",
       "      <td>std</td>\n",
       "      <td>0.343535</td>\n",
       "      <td>375.559485</td>\n",
       "      <td>1.129665</td>\n",
       "      <td>1.438860</td>\n",
       "      <td>1.611909</td>\n",
       "      <td>3981.357627</td>\n",
       "      <td>3576.668946</td>\n",
       "      <td>6212.564538</td>\n",
       "      <td>49.313441</td>\n",
       "      <td>8751.347700</td>\n",
       "    </tr>\n",
       "    <tr>\n",
       "      <td>min</td>\n",
       "      <td>0.000000</td>\n",
       "      <td>10.000000</td>\n",
       "      <td>1.000000</td>\n",
       "      <td>1.000000</td>\n",
       "      <td>0.000000</td>\n",
       "      <td>0.000000</td>\n",
       "      <td>420.000000</td>\n",
       "      <td>0.000000</td>\n",
       "      <td>3.000000</td>\n",
       "      <td>660.000000</td>\n",
       "    </tr>\n",
       "    <tr>\n",
       "      <td>25%</td>\n",
       "      <td>1.000000</td>\n",
       "      <td>58.000000</td>\n",
       "      <td>2.000000</td>\n",
       "      <td>1.000000</td>\n",
       "      <td>1.000000</td>\n",
       "      <td>24.500000</td>\n",
       "      <td>1800.000000</td>\n",
       "      <td>33.000000</td>\n",
       "      <td>23.000000</td>\n",
       "      <td>2451.500000</td>\n",
       "    </tr>\n",
       "    <tr>\n",
       "      <td>50%</td>\n",
       "      <td>1.000000</td>\n",
       "      <td>100.000000</td>\n",
       "      <td>3.000000</td>\n",
       "      <td>2.000000</td>\n",
       "      <td>1.000000</td>\n",
       "      <td>650.000000</td>\n",
       "      <td>3111.000000</td>\n",
       "      <td>145.000000</td>\n",
       "      <td>41.000000</td>\n",
       "      <td>4128.500000</td>\n",
       "    </tr>\n",
       "    <tr>\n",
       "      <td>75%</td>\n",
       "      <td>1.000000</td>\n",
       "      <td>200.000000</td>\n",
       "      <td>3.000000</td>\n",
       "      <td>3.000000</td>\n",
       "      <td>2.000000</td>\n",
       "      <td>1436.000000</td>\n",
       "      <td>5952.500000</td>\n",
       "      <td>458.000000</td>\n",
       "      <td>77.000000</td>\n",
       "      <td>8074.000000</td>\n",
       "    </tr>\n",
       "    <tr>\n",
       "      <td>max</td>\n",
       "      <td>1.000000</td>\n",
       "      <td>24606.000000</td>\n",
       "      <td>10.000000</td>\n",
       "      <td>10.000000</td>\n",
       "      <td>12.000000</td>\n",
       "      <td>220000.000000</td>\n",
       "      <td>45000.000000</td>\n",
       "      <td>366300.000000</td>\n",
       "      <td>677.000000</td>\n",
       "      <td>372700.000000</td>\n",
       "    </tr>\n",
       "  </tbody>\n",
       "</table>\n",
       "</div>"
      ],
      "text/plain": [
       "              city          area        rooms     bathroom  parking spaces  \\\n",
       "count  6080.000000   6080.000000  6080.000000  6080.000000     6080.000000   \n",
       "mean      0.863322    151.143914     2.492599     2.341612        1.756250   \n",
       "std       0.343535    375.559485     1.129665     1.438860        1.611909   \n",
       "min       0.000000     10.000000     1.000000     1.000000        0.000000   \n",
       "25%       1.000000     58.000000     2.000000     1.000000        1.000000   \n",
       "50%       1.000000    100.000000     3.000000     2.000000        1.000000   \n",
       "75%       1.000000    200.000000     3.000000     3.000000        2.000000   \n",
       "max       1.000000  24606.000000    10.000000    10.000000       12.000000   \n",
       "\n",
       "                 hoa   rent amount   property tax  fire insurance  \\\n",
       "count    6080.000000   6080.000000    6080.000000     6080.000000   \n",
       "mean     1088.426480   4395.844408     490.333388       58.204276   \n",
       "std      3981.357627   3576.668946    6212.564538       49.313441   \n",
       "min         0.000000    420.000000       0.000000        3.000000   \n",
       "25%        24.500000   1800.000000      33.000000       23.000000   \n",
       "50%       650.000000   3111.000000     145.000000       41.000000   \n",
       "75%      1436.000000   5952.500000     458.000000       77.000000   \n",
       "max    220000.000000  45000.000000  366300.000000      677.000000   \n",
       "\n",
       "               total  \n",
       "count    6080.000000  \n",
       "mean     6033.194572  \n",
       "std      8751.347700  \n",
       "min       660.000000  \n",
       "25%      2451.500000  \n",
       "50%      4128.500000  \n",
       "75%      8074.000000  \n",
       "max    372700.000000  "
      ]
     },
     "execution_count": 63,
     "metadata": {},
     "output_type": "execute_result"
    }
   ],
   "source": [
    "df1_house.describe()"
   ]
  },
  {
   "cell_type": "code",
   "execution_count": 16,
   "metadata": {},
   "outputs": [],
   "source": [
    "# df1_house.drop(['area'],axis=1)"
   ]
  },
  {
   "cell_type": "code",
   "execution_count": 64,
   "metadata": {},
   "outputs": [],
   "source": [
    "from sklearn.preprocessing import LabelEncoder\n",
    "le=LabelEncoder()\n",
    "df1_house['animal']=le.fit_transform(df1_house['animal'])\n",
    "df1_house['furniture']=le.fit_transform(df1_house['furniture'])\n",
    "# df1_house['floor']=le.fit_transform(df1_house['floor'])"
   ]
  },
  {
   "cell_type": "code",
   "execution_count": 65,
   "metadata": {},
   "outputs": [
    {
     "data": {
      "text/html": [
       "<div>\n",
       "<style scoped>\n",
       "    .dataframe tbody tr th:only-of-type {\n",
       "        vertical-align: middle;\n",
       "    }\n",
       "\n",
       "    .dataframe tbody tr th {\n",
       "        vertical-align: top;\n",
       "    }\n",
       "\n",
       "    .dataframe thead th {\n",
       "        text-align: right;\n",
       "    }\n",
       "</style>\n",
       "<table border=\"1\" class=\"dataframe\">\n",
       "  <thead>\n",
       "    <tr style=\"text-align: right;\">\n",
       "      <th></th>\n",
       "      <th>city</th>\n",
       "      <th>area</th>\n",
       "      <th>rooms</th>\n",
       "      <th>bathroom</th>\n",
       "      <th>parking spaces</th>\n",
       "      <th>floor</th>\n",
       "      <th>animal</th>\n",
       "      <th>furniture</th>\n",
       "      <th>hoa</th>\n",
       "      <th>rent amount</th>\n",
       "      <th>property tax</th>\n",
       "      <th>fire insurance</th>\n",
       "      <th>total</th>\n",
       "    </tr>\n",
       "  </thead>\n",
       "  <tbody>\n",
       "    <tr>\n",
       "      <td>0</td>\n",
       "      <td>1</td>\n",
       "      <td>240</td>\n",
       "      <td>3</td>\n",
       "      <td>3</td>\n",
       "      <td>4</td>\n",
       "      <td>0</td>\n",
       "      <td>0</td>\n",
       "      <td>0</td>\n",
       "      <td>0.0</td>\n",
       "      <td>8000.0</td>\n",
       "      <td>1000.0</td>\n",
       "      <td>121.0</td>\n",
       "      <td>9121.0</td>\n",
       "    </tr>\n",
       "    <tr>\n",
       "      <td>1</td>\n",
       "      <td>0</td>\n",
       "      <td>64</td>\n",
       "      <td>2</td>\n",
       "      <td>1</td>\n",
       "      <td>1</td>\n",
       "      <td>10</td>\n",
       "      <td>0</td>\n",
       "      <td>1</td>\n",
       "      <td>540.0</td>\n",
       "      <td>820.0</td>\n",
       "      <td>122.0</td>\n",
       "      <td>11.0</td>\n",
       "      <td>1493.0</td>\n",
       "    </tr>\n",
       "    <tr>\n",
       "      <td>2</td>\n",
       "      <td>1</td>\n",
       "      <td>443</td>\n",
       "      <td>5</td>\n",
       "      <td>5</td>\n",
       "      <td>4</td>\n",
       "      <td>3</td>\n",
       "      <td>0</td>\n",
       "      <td>0</td>\n",
       "      <td>4172.0</td>\n",
       "      <td>7000.0</td>\n",
       "      <td>1417.0</td>\n",
       "      <td>89.0</td>\n",
       "      <td>12680.0</td>\n",
       "    </tr>\n",
       "    <tr>\n",
       "      <td>3</td>\n",
       "      <td>1</td>\n",
       "      <td>73</td>\n",
       "      <td>2</td>\n",
       "      <td>2</td>\n",
       "      <td>1</td>\n",
       "      <td>12</td>\n",
       "      <td>0</td>\n",
       "      <td>1</td>\n",
       "      <td>700.0</td>\n",
       "      <td>1250.0</td>\n",
       "      <td>150.0</td>\n",
       "      <td>16.0</td>\n",
       "      <td>2116.0</td>\n",
       "    </tr>\n",
       "    <tr>\n",
       "      <td>4</td>\n",
       "      <td>1</td>\n",
       "      <td>19</td>\n",
       "      <td>1</td>\n",
       "      <td>1</td>\n",
       "      <td>0</td>\n",
       "      <td>0</td>\n",
       "      <td>1</td>\n",
       "      <td>1</td>\n",
       "      <td>0.0</td>\n",
       "      <td>1200.0</td>\n",
       "      <td>41.0</td>\n",
       "      <td>16.0</td>\n",
       "      <td>1257.0</td>\n",
       "    </tr>\n",
       "  </tbody>\n",
       "</table>\n",
       "</div>"
      ],
      "text/plain": [
       "   city  area  rooms  bathroom  parking spaces floor  animal  furniture  \\\n",
       "0     1   240      3         3               4     0       0          0   \n",
       "1     0    64      2         1               1    10       0          1   \n",
       "2     1   443      5         5               4     3       0          0   \n",
       "3     1    73      2         2               1    12       0          1   \n",
       "4     1    19      1         1               0     0       1          1   \n",
       "\n",
       "      hoa  rent amount  property tax  fire insurance    total  \n",
       "0     0.0       8000.0        1000.0           121.0   9121.0  \n",
       "1   540.0        820.0         122.0            11.0   1493.0  \n",
       "2  4172.0       7000.0        1417.0            89.0  12680.0  \n",
       "3   700.0       1250.0         150.0            16.0   2116.0  \n",
       "4     0.0       1200.0          41.0            16.0   1257.0  "
      ]
     },
     "execution_count": 65,
     "metadata": {},
     "output_type": "execute_result"
    }
   ],
   "source": [
    "df1_house.head()"
   ]
  },
  {
   "cell_type": "code",
   "execution_count": 66,
   "metadata": {},
   "outputs": [
    {
     "data": {
      "text/plain": [
       "(6080, 13)"
      ]
     },
     "execution_count": 66,
     "metadata": {},
     "output_type": "execute_result"
    }
   ],
   "source": [
    "df1_house.shape"
   ]
  },
  {
   "cell_type": "code",
   "execution_count": 67,
   "metadata": {},
   "outputs": [],
   "source": [
    "y=np.log(df1_house.total)"
   ]
  },
  {
   "cell_type": "code",
   "execution_count": 68,
   "metadata": {},
   "outputs": [
    {
     "data": {
      "text/plain": [
       "array([0, 1], dtype=int64)"
      ]
     },
     "execution_count": 68,
     "metadata": {},
     "output_type": "execute_result"
    }
   ],
   "source": [
    "df1_house.animal.unique()"
   ]
  },
  {
   "cell_type": "code",
   "execution_count": 69,
   "metadata": {},
   "outputs": [
    {
     "data": {
      "image/png": "[encoded data removed]",
      "text/plain": [
       "<Figure size 432x288 with 1 Axes>"
      ]
     },
     "metadata": {
      "needs_background": "light"
     },
     "output_type": "display_data"
    }
   ],
   "source": [
    "sns.boxplot(df1_house.bathroom,y)\n",
    "plt.show()"
   ]
  },
  {
   "cell_type": "code",
   "execution_count": 70,
   "metadata": {},
   "outputs": [
    {
     "data": {
      "image/png": "[encoded data removed]",
      "text/plain": [
       "<Figure size 432x288 with 1 Axes>"
      ]
     },
     "metadata": {
      "needs_background": "light"
     },
     "output_type": "display_data"
    }
   ],
   "source": [
    "sns.boxplot(df1_house.floor,y)\n",
    "plt.show()"
   ]
  },
  {
   "cell_type": "code",
   "execution_count": 71,
   "metadata": {},
   "outputs": [
    {
     "data": {
      "image/png": "[encoded data removed]",
      "text/plain": [
       "<Figure size 432x288 with 1 Axes>"
      ]
     },
     "metadata": {
      "needs_background": "light"
     },
     "output_type": "display_data"
    }
   ],
   "source": [
    "sns.boxplot(df1_house.bathroom,y)\n",
    "plt.show()"
   ]
  },
  {
   "cell_type": "code",
   "execution_count": 25,
   "metadata": {},
   "outputs": [
    {
     "data": {
      "image/png": "[encoded data removed]",
      "text/plain": [
       "<Figure size 432x288 with 1 Axes>"
      ]
     },
     "metadata": {
      "needs_background": "light"
     },
     "output_type": "display_data"
    }
   ],
   "source": [
    "sns.boxplot(df1_house['parking spaces'],y)\n",
    "plt.show()"
   ]
  },
  {
   "cell_type": "code",
   "execution_count": 72,
   "metadata": {},
   "outputs": [
    {
     "data": {
      "text/plain": [
       "array(['0', '10', '3', '12', '2', '16', '6', '4', '1', '7', '13', '9',\n",
       "       '14', '5', '8', '15', '11', '19', '20', '24', '23', '17', '18',\n",
       "       '22', '27', '85', '28', '25', '29', '35', '21', '31', '99', '26',\n",
       "       '68', '32', '51'], dtype=object)"
      ]
     },
     "execution_count": 72,
     "metadata": {},
     "output_type": "execute_result"
    }
   ],
   "source": [
    "df1_house['floor'].unique()"
   ]
  },
  {
   "cell_type": "code",
   "execution_count": 73,
   "metadata": {},
   "outputs": [
    {
     "data": {
      "text/html": [
       "<div>\n",
       "<style scoped>\n",
       "    .dataframe tbody tr th:only-of-type {\n",
       "        vertical-align: middle;\n",
       "    }\n",
       "\n",
       "    .dataframe tbody tr th {\n",
       "        vertical-align: top;\n",
       "    }\n",
       "\n",
       "    .dataframe thead th {\n",
       "        text-align: right;\n",
       "    }\n",
       "</style>\n",
       "<table border=\"1\" class=\"dataframe\">\n",
       "  <thead>\n",
       "    <tr style=\"text-align: right;\">\n",
       "      <th></th>\n",
       "      <th>city</th>\n",
       "      <th>area</th>\n",
       "      <th>rooms</th>\n",
       "      <th>bathroom</th>\n",
       "      <th>parking spaces</th>\n",
       "      <th>floor</th>\n",
       "      <th>animal</th>\n",
       "      <th>furniture</th>\n",
       "      <th>hoa</th>\n",
       "      <th>rent amount</th>\n",
       "      <th>property tax</th>\n",
       "      <th>fire insurance</th>\n",
       "      <th>total</th>\n",
       "    </tr>\n",
       "  </thead>\n",
       "  <tbody>\n",
       "    <tr>\n",
       "      <td>0</td>\n",
       "      <td>1</td>\n",
       "      <td>240</td>\n",
       "      <td>3</td>\n",
       "      <td>3</td>\n",
       "      <td>4</td>\n",
       "      <td>0</td>\n",
       "      <td>0</td>\n",
       "      <td>0</td>\n",
       "      <td>0.0</td>\n",
       "      <td>8000.0</td>\n",
       "      <td>1000.0</td>\n",
       "      <td>121.0</td>\n",
       "      <td>9121.0</td>\n",
       "    </tr>\n",
       "    <tr>\n",
       "      <td>1</td>\n",
       "      <td>0</td>\n",
       "      <td>64</td>\n",
       "      <td>2</td>\n",
       "      <td>1</td>\n",
       "      <td>1</td>\n",
       "      <td>10</td>\n",
       "      <td>0</td>\n",
       "      <td>1</td>\n",
       "      <td>540.0</td>\n",
       "      <td>820.0</td>\n",
       "      <td>122.0</td>\n",
       "      <td>11.0</td>\n",
       "      <td>1493.0</td>\n",
       "    </tr>\n",
       "    <tr>\n",
       "      <td>2</td>\n",
       "      <td>1</td>\n",
       "      <td>443</td>\n",
       "      <td>5</td>\n",
       "      <td>5</td>\n",
       "      <td>4</td>\n",
       "      <td>3</td>\n",
       "      <td>0</td>\n",
       "      <td>0</td>\n",
       "      <td>4172.0</td>\n",
       "      <td>7000.0</td>\n",
       "      <td>1417.0</td>\n",
       "      <td>89.0</td>\n",
       "      <td>12680.0</td>\n",
       "    </tr>\n",
       "    <tr>\n",
       "      <td>3</td>\n",
       "      <td>1</td>\n",
       "      <td>73</td>\n",
       "      <td>2</td>\n",
       "      <td>2</td>\n",
       "      <td>1</td>\n",
       "      <td>12</td>\n",
       "      <td>0</td>\n",
       "      <td>1</td>\n",
       "      <td>700.0</td>\n",
       "      <td>1250.0</td>\n",
       "      <td>150.0</td>\n",
       "      <td>16.0</td>\n",
       "      <td>2116.0</td>\n",
       "    </tr>\n",
       "    <tr>\n",
       "      <td>4</td>\n",
       "      <td>1</td>\n",
       "      <td>19</td>\n",
       "      <td>1</td>\n",
       "      <td>1</td>\n",
       "      <td>0</td>\n",
       "      <td>0</td>\n",
       "      <td>1</td>\n",
       "      <td>1</td>\n",
       "      <td>0.0</td>\n",
       "      <td>1200.0</td>\n",
       "      <td>41.0</td>\n",
       "      <td>16.0</td>\n",
       "      <td>1257.0</td>\n",
       "    </tr>\n",
       "    <tr>\n",
       "      <td>...</td>\n",
       "      <td>...</td>\n",
       "      <td>...</td>\n",
       "      <td>...</td>\n",
       "      <td>...</td>\n",
       "      <td>...</td>\n",
       "      <td>...</td>\n",
       "      <td>...</td>\n",
       "      <td>...</td>\n",
       "      <td>...</td>\n",
       "      <td>...</td>\n",
       "      <td>...</td>\n",
       "      <td>...</td>\n",
       "      <td>...</td>\n",
       "    </tr>\n",
       "    <tr>\n",
       "      <td>6075</td>\n",
       "      <td>1</td>\n",
       "      <td>50</td>\n",
       "      <td>2</td>\n",
       "      <td>1</td>\n",
       "      <td>1</td>\n",
       "      <td>2</td>\n",
       "      <td>0</td>\n",
       "      <td>1</td>\n",
       "      <td>420.0</td>\n",
       "      <td>1150.0</td>\n",
       "      <td>0.0</td>\n",
       "      <td>15.0</td>\n",
       "      <td>1585.0</td>\n",
       "    </tr>\n",
       "    <tr>\n",
       "      <td>6076</td>\n",
       "      <td>1</td>\n",
       "      <td>84</td>\n",
       "      <td>2</td>\n",
       "      <td>2</td>\n",
       "      <td>1</td>\n",
       "      <td>16</td>\n",
       "      <td>1</td>\n",
       "      <td>0</td>\n",
       "      <td>768.0</td>\n",
       "      <td>2900.0</td>\n",
       "      <td>63.0</td>\n",
       "      <td>37.0</td>\n",
       "      <td>3768.0</td>\n",
       "    </tr>\n",
       "    <tr>\n",
       "      <td>6077</td>\n",
       "      <td>0</td>\n",
       "      <td>48</td>\n",
       "      <td>1</td>\n",
       "      <td>1</td>\n",
       "      <td>0</td>\n",
       "      <td>13</td>\n",
       "      <td>0</td>\n",
       "      <td>1</td>\n",
       "      <td>250.0</td>\n",
       "      <td>950.0</td>\n",
       "      <td>42.0</td>\n",
       "      <td>13.0</td>\n",
       "      <td>1255.0</td>\n",
       "    </tr>\n",
       "    <tr>\n",
       "      <td>6078</td>\n",
       "      <td>1</td>\n",
       "      <td>160</td>\n",
       "      <td>3</td>\n",
       "      <td>2</td>\n",
       "      <td>2</td>\n",
       "      <td>0</td>\n",
       "      <td>1</td>\n",
       "      <td>1</td>\n",
       "      <td>0.0</td>\n",
       "      <td>3500.0</td>\n",
       "      <td>250.0</td>\n",
       "      <td>53.0</td>\n",
       "      <td>3803.0</td>\n",
       "    </tr>\n",
       "    <tr>\n",
       "      <td>6079</td>\n",
       "      <td>1</td>\n",
       "      <td>60</td>\n",
       "      <td>2</td>\n",
       "      <td>1</td>\n",
       "      <td>1</td>\n",
       "      <td>4</td>\n",
       "      <td>0</td>\n",
       "      <td>0</td>\n",
       "      <td>489.0</td>\n",
       "      <td>1900.0</td>\n",
       "      <td>0.0</td>\n",
       "      <td>25.0</td>\n",
       "      <td>2414.0</td>\n",
       "    </tr>\n",
       "  </tbody>\n",
       "</table>\n",
       "<p>6080 rows × 13 columns</p>\n",
       "</div>"
      ],
      "text/plain": [
       "      city  area  rooms  bathroom  parking spaces floor  animal  furniture  \\\n",
       "0        1   240      3         3               4     0       0          0   \n",
       "1        0    64      2         1               1    10       0          1   \n",
       "2        1   443      5         5               4     3       0          0   \n",
       "3        1    73      2         2               1    12       0          1   \n",
       "4        1    19      1         1               0     0       1          1   \n",
       "...    ...   ...    ...       ...             ...   ...     ...        ...   \n",
       "6075     1    50      2         1               1     2       0          1   \n",
       "6076     1    84      2         2               1    16       1          0   \n",
       "6077     0    48      1         1               0    13       0          1   \n",
       "6078     1   160      3         2               2     0       1          1   \n",
       "6079     1    60      2         1               1     4       0          0   \n",
       "\n",
       "         hoa  rent amount  property tax  fire insurance    total  \n",
       "0        0.0       8000.0        1000.0           121.0   9121.0  \n",
       "1      540.0        820.0         122.0            11.0   1493.0  \n",
       "2     4172.0       7000.0        1417.0            89.0  12680.0  \n",
       "3      700.0       1250.0         150.0            16.0   2116.0  \n",
       "4        0.0       1200.0          41.0            16.0   1257.0  \n",
       "...      ...          ...           ...             ...      ...  \n",
       "6075   420.0       1150.0           0.0            15.0   1585.0  \n",
       "6076   768.0       2900.0          63.0            37.0   3768.0  \n",
       "6077   250.0        950.0          42.0            13.0   1255.0  \n",
       "6078     0.0       3500.0         250.0            53.0   3803.0  \n",
       "6079   489.0       1900.0           0.0            25.0   2414.0  \n",
       "\n",
       "[6080 rows x 13 columns]"
      ]
     },
     "execution_count": 73,
     "metadata": {},
     "output_type": "execute_result"
    }
   ],
   "source": [
    "df1_house"
   ]
  },
  {
   "cell_type": "code",
   "execution_count": 74,
   "metadata": {},
   "outputs": [],
   "source": [
    "from sklearn.linear_model import LinearRegression\n",
    "from sklearn.model_selection import train_test_split"
   ]
  },
  {
   "cell_type": "code",
   "execution_count": 75,
   "metadata": {},
   "outputs": [],
   "source": [
    "lr=LinearRegression()"
   ]
  },
  {
   "cell_type": "code",
   "execution_count": 76,
   "metadata": {},
   "outputs": [],
   "source": [
    "X=df1_house.drop(['total'],axis=1)\n",
    "y=df1_house.total"
   ]
  },
  {
   "cell_type": "code",
   "execution_count": 83,
   "metadata": {},
   "outputs": [],
   "source": [
    "X_train, X_test, y_train, y_test = train_test_split(X, y, test_size=0.3, random_state=1)"
   ]
  },
  {
   "cell_type": "code",
   "execution_count": 84,
   "metadata": {},
   "outputs": [
    {
     "data": {
      "text/plain": [
       "LinearRegression(copy_X=True, fit_intercept=True, n_jobs=None, normalize=False)"
      ]
     },
     "execution_count": 84,
     "metadata": {},
     "output_type": "execute_result"
    }
   ],
   "source": [
    "lr.fit(X_train,y_train)"
   ]
  },
  {
   "cell_type": "code",
   "execution_count": 85,
   "metadata": {},
   "outputs": [],
   "source": [
    "predict=lr.predict(X_test)"
   ]
  },
  {
   "cell_type": "code",
   "execution_count": 86,
   "metadata": {},
   "outputs": [],
   "source": [
    "from sklearn.metrics import mean_squared_error,r2_score"
   ]
  },
  {
   "cell_type": "code",
   "execution_count": 87,
   "metadata": {},
   "outputs": [
    {
     "data": {
      "text/plain": [
       "28.906840475762518"
      ]
     },
     "execution_count": 87,
     "metadata": {},
     "output_type": "execute_result"
    }
   ],
   "source": [
    "mean_squared_error(y_test,predict)"
   ]
  },
  {
   "cell_type": "code",
   "execution_count": 88,
   "metadata": {},
   "outputs": [
    {
     "data": {
      "text/plain": [
       "0.999998752037494"
      ]
     },
     "execution_count": 88,
     "metadata": {},
     "output_type": "execute_result"
    }
   ],
   "source": [
    "r2_score(y_test,predict)"
   ]
  },
  {
   "cell_type": "code",
   "execution_count": null,
   "metadata": {},
   "outputs": [],
   "source": []
  }
 ],
 "metadata": {
  "kernelspec": {
   "display_name": "Python 3",
   "language": "python",
   "name": "python3"
  },
  "language_info": {
   "codemirror_mode": {
    "name": "ipython",
    "version": 3
   },
   "file_extension": ".py",
   "mimetype": "text/x-python",
   "name": "python",
   "nbconvert_exporter": "python",
   "pygments_lexer": "ipython3",
   "version": "3.7.4"
  }
 },
 "nbformat": 4,
 "nbformat_minor": 2
}
